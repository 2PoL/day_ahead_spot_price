{
 "cells": [
  {
   "cell_type": "code",
   "id": "initial_id",
   "metadata": {
    "collapsed": true,
    "ExecuteTime": {
     "end_time": "2025-04-05T06:34:58.374441Z",
     "start_time": "2025-04-05T06:34:50.524799Z"
    }
   },
   "source": [
    "import pandas as pd\n",
    "from datetime import datetime\n",
    "from sqlalchemy import create_engine\n",
    "from sqlalchemy import text\n",
    "\n",
    "db_username = 'tupo'\n",
    "db_password = 'npg_mbhaH6B3jdzy'\n",
    "db_host = 'ep-bold-king-a52tlxdq-pooler.us-east-2.aws.neon.tech'\n",
    "db_port = '5432'  # 默认为5432\n",
    "db_name = 'day_ahead_spot'\n",
    "\n",
    "conn = create_engine(f'postgresql+psycopg2://{db_username}:{db_password}@{db_host}:{db_port}/{db_name}')\n",
    "query = \"SELECT * FROM day_ahead_marginal_data;\"\n",
    "df = pd.read_sql_query(query, conn)\n",
    "df.info()"
   ],
   "outputs": [],
   "execution_count": 1
  },
  {
   "metadata": {
    "ExecuteTime": {
     "end_time": "2025-04-05T06:40:59.860351Z",
     "start_time": "2025-04-05T06:40:59.853429Z"
    }
   },
   "cell_type": "code",
   "source": "df[df[\"renewable_load\"] == df[\"renewable_load\"].max()]",
   "id": "3046aeb483a9de1f",
   "outputs": [
    {
     "data": {
      "text/plain": [
       "             date time_slot  bidding_space  renewable_load  \\\n",
       "43827  2025-04-01  13:00:00       -1899.83        33564.95   \n",
       "\n",
       "       provincial_dispatch_load  interconnection_plan  \\\n",
       "43827                  23151.12                8514.0   \n",
       "\n",
       "       day_ahead_online_capacity  day_ahead_load_rate_percent  \\\n",
       "43827                    37565.0                          0.0   \n",
       "\n",
       "       day_ahead_clearing_price  \n",
       "43827                      14.2  "
      ],
      "text/html": [
       "<div>\n",
       "<style scoped>\n",
       "    .dataframe tbody tr th:only-of-type {\n",
       "        vertical-align: middle;\n",
       "    }\n",
       "\n",
       "    .dataframe tbody tr th {\n",
       "        vertical-align: top;\n",
       "    }\n",
       "\n",
       "    .dataframe thead th {\n",
       "        text-align: right;\n",
       "    }\n",
       "</style>\n",
       "<table border=\"1\" class=\"dataframe\">\n",
       "  <thead>\n",
       "    <tr style=\"text-align: right;\">\n",
       "      <th></th>\n",
       "      <th>date</th>\n",
       "      <th>time_slot</th>\n",
       "      <th>bidding_space</th>\n",
       "      <th>renewable_load</th>\n",
       "      <th>provincial_dispatch_load</th>\n",
       "      <th>interconnection_plan</th>\n",
       "      <th>day_ahead_online_capacity</th>\n",
       "      <th>day_ahead_load_rate_percent</th>\n",
       "      <th>day_ahead_clearing_price</th>\n",
       "    </tr>\n",
       "  </thead>\n",
       "  <tbody>\n",
       "    <tr>\n",
       "      <th>43827</th>\n",
       "      <td>2025-04-01</td>\n",
       "      <td>13:00:00</td>\n",
       "      <td>-1899.83</td>\n",
       "      <td>33564.95</td>\n",
       "      <td>23151.12</td>\n",
       "      <td>8514.0</td>\n",
       "      <td>37565.0</td>\n",
       "      <td>0.0</td>\n",
       "      <td>14.2</td>\n",
       "    </tr>\n",
       "  </tbody>\n",
       "</table>\n",
       "</div>"
      ]
     },
     "execution_count": 19,
     "metadata": {},
     "output_type": "execute_result"
    }
   ],
   "execution_count": 19
  },
  {
   "metadata": {
    "ExecuteTime": {
     "end_time": "2025-04-05T06:43:02.867419Z",
     "start_time": "2025-04-05T06:43:02.860127Z"
    }
   },
   "cell_type": "code",
   "source": "df[\"renewable_load\"].describe()",
   "id": "9419b0d9d6ea6063",
   "outputs": [
    {
     "data": {
      "text/plain": [
       "count    43872.000000\n",
       "mean      9571.016499\n",
       "std       6493.162130\n",
       "min        443.830000\n",
       "25%       4207.490000\n",
       "50%       8417.115000\n",
       "75%      13756.592500\n",
       "max      33564.950000\n",
       "Name: renewable_load, dtype: float64"
      ]
     },
     "execution_count": 21,
     "metadata": {},
     "output_type": "execute_result"
    }
   ],
   "execution_count": 21
  },
  {
   "metadata": {
    "ExecuteTime": {
     "end_time": "2025-04-05T06:46:02.153742Z",
     "start_time": "2025-04-05T06:46:02.135847Z"
    }
   },
   "cell_type": "code",
   "source": [
    "# 确保 date 是 datetime 类型\n",
    "df[\"date\"] = pd.to_datetime(df[\"date\"])\n",
    "\n",
    "# 筛选 2024 年的数据\n",
    "df_2024 = df[df[\"date\"].dt.year == 2024]\n",
    "\n",
    "# 分析 renewable_load 的描述统计\n",
    "df_2024[\"renewable_load\"].describe()"
   ],
   "id": "d371a6e9be2a8645",
   "outputs": [
    {
     "data": {
      "text/plain": [
       "count    35136.000000\n",
       "mean      8614.519382\n",
       "std       5680.463376\n",
       "min        443.830000\n",
       "25%       3933.452500\n",
       "50%       7649.380000\n",
       "75%      12278.182500\n",
       "max      30244.050000\n",
       "Name: renewable_load, dtype: float64"
      ]
     },
     "execution_count": 22,
     "metadata": {},
     "output_type": "execute_result"
    }
   ],
   "execution_count": 22
  },
  {
   "metadata": {
    "ExecuteTime": {
     "end_time": "2025-04-05T07:18:08.177374Z",
     "start_time": "2025-04-05T07:18:08.170505Z"
    }
   },
   "cell_type": "code",
   "source": [
    "start_time = pd.to_datetime('00:15:00').time()\n",
    "end_time = pd.to_datetime('08:45:00').time()\n",
    "\n",
    "results = df.loc[((df['date'].dt.month == 4) & (df['date'].dt.year == 2024) & (df['time_slot'] >= start_time) & (df['time_slot'] <= end_time)), ['date', 'time_slot' ,'renewable_load', 'day_ahead_clearing_price']]"
   ],
   "id": "cbfe694fd84cef42",
   "outputs": [],
   "execution_count": 64
  },
  {
   "metadata": {
    "ExecuteTime": {
     "end_time": "2025-04-05T07:18:55.102991Z",
     "start_time": "2025-04-05T07:18:54.842368Z"
    }
   },
   "cell_type": "code",
   "source": "results.to_excel('renweable_load.xlsx')",
   "id": "f3e61f236386ad00",
   "outputs": [],
   "execution_count": 66
  }
 ],
 "metadata": {
  "kernelspec": {
   "display_name": "Python 3",
   "language": "python",
   "name": "python3"
  },
  "language_info": {
   "codemirror_mode": {
    "name": "ipython",
    "version": 2
   },
   "file_extension": ".py",
   "mimetype": "text/x-python",
   "name": "python",
   "nbconvert_exporter": "python",
   "pygments_lexer": "ipython2",
   "version": "2.7.6"
  }
 },
 "nbformat": 4,
 "nbformat_minor": 5
}
