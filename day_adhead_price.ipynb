{
 "cells": [
  {
   "cell_type": "code",
   "id": "initial_id",
   "metadata": {
    "collapsed": true,
    "ExecuteTime": {
     "end_time": "2025-04-02T03:01:58.968237Z",
     "start_time": "2025-04-02T03:01:57.383404Z"
    }
   },
   "source": [
    "import psycopg2\n",
    "import pandas as pd\n",
    "from datetime import datetime, timedelta\n",
    "\n",
    "# 建立数据库连接\n",
    "conn = psycopg2.connect(\n",
    "    dbname=\"day_ahead_spot\",\n",
    "    user=\"tupo\",\n",
    "    password=\"npg_mbhaH6B3jdzy\",\n",
    "    host=\"ep-bold-king-a52tlxdq-pooler.us-east-2.aws.neon.tech\",\n",
    "    port=\"5432\"\n",
    ")"
   ],
   "outputs": [],
   "execution_count": 10
  },
  {
   "metadata": {
    "ExecuteTime": {
     "end_time": "2025-04-02T03:02:03.765857Z",
     "start_time": "2025-04-02T03:02:00.291003Z"
    }
   },
   "cell_type": "code",
   "source": [
    "query = \"SELECT * FROM day_ahead_marginal_data;\"\n",
    "df = pd.read_sql_query(query, conn)"
   ],
   "id": "2b9e25f7e2b293db",
   "outputs": [
    {
     "name": "stderr",
     "output_type": "stream",
     "text": [
      "C:\\Users\\SP007\\AppData\\Local\\Temp\\ipykernel_19500\\2756668864.py:2: UserWarning: pandas only supports SQLAlchemy connectable (engine/connection) or database string URI or sqlite3 DBAPI2 connection. Other DBAPI2 objects are not tested. Please consider using SQLAlchemy.\n",
      "  df = pd.read_sql_query(query, conn)\n"
     ]
    }
   ],
   "execution_count": 11
  },
  {
   "metadata": {
    "ExecuteTime": {
     "end_time": "2025-04-02T03:02:53.090589Z",
     "start_time": "2025-04-02T03:02:53.082662Z"
    }
   },
   "cell_type": "code",
   "source": [
    "from decimal import Decimal\n",
    "\n",
    "def estimate_clearing_price(conn, query_date, time_slot, rate_tolerance=0.01, lookback_days=5):\n",
    "    rate_tolerance = Decimal(str(rate_tolerance))  # 把 float 转为 Decimal\n",
    "    \n",
    "    # 获取目标负荷率\n",
    "    query = f\"\"\"\n",
    "        SELECT day_ahead_load_rate_percent\n",
    "        FROM day_ahead_marginal_data\n",
    "        WHERE date = %s AND time_slot = %s\n",
    "    \"\"\"\n",
    "    with conn.cursor() as cur:\n",
    "        cur.execute(query, (query_date, time_slot))\n",
    "        result = cur.fetchone()\n",
    "        if not result:\n",
    "            return None\n",
    "        target_rate = result[0]  # 这是 Decimal 类型\n",
    "\n",
    "    # 查找近几天内相同时点且负荷率相近的数据\n",
    "    start_date = query_date - timedelta(days=lookback_days)\n",
    "    match_query = f\"\"\"\n",
    "        SELECT day_ahead_clearing_price\n",
    "        FROM day_ahead_marginal_data\n",
    "        WHERE \n",
    "            date >= %s AND date < %s\n",
    "            AND time_slot = %s\n",
    "            AND day_ahead_load_rate_percent BETWEEN %s AND %s\n",
    "    \"\"\"\n",
    "    with conn.cursor() as cur:\n",
    "        cur.execute(match_query, (\n",
    "            start_date, query_date, time_slot,\n",
    "            target_rate - rate_tolerance,\n",
    "            target_rate + rate_tolerance\n",
    "        ))\n",
    "        prices = [row[0] for row in cur.fetchall()]\n",
    "        return sum(prices) / len(prices) if prices else None"
   ],
   "id": "6ce4977e1b3b8431",
   "outputs": [],
   "execution_count": 16
  },
  {
   "metadata": {
    "ExecuteTime": {
     "end_time": "2025-04-02T03:03:38.129040Z",
     "start_time": "2025-04-02T03:02:55.356798Z"
    }
   },
   "cell_type": "code",
   "source": [
    "# 假设处理目标日期为 2025-03-30\n",
    "target_date = datetime.strptime(\"2025-03-30\", \"%Y-%m-%d\").date()\n",
    "\n",
    "# 生成所有96个时点（15分钟一个）\n",
    "time_slots = [f\"{hour:02}:{minute:02}:00\" \n",
    "              for hour in range(24) \n",
    "              for minute in range(0, 60, 15)]\n",
    "\n",
    "results = []\n",
    "for time_str in time_slots:\n",
    "    time_slot = datetime.strptime(time_str, \"%H:%M:%S\").time()\n",
    "    avg_price = estimate_clearing_price(conn, target_date, time_slot)\n",
    "    results.append({\n",
    "        \"date\": target_date,\n",
    "        \"time_slot\": time_slot,\n",
    "        \"estimated_price\": avg_price\n",
    "    })\n",
    "\n",
    "result_df = pd.DataFrame(results)"
   ],
   "id": "e5d974860ca4f846",
   "outputs": [],
   "execution_count": 17
  },
  {
   "metadata": {
    "ExecuteTime": {
     "end_time": "2025-04-02T03:24:46.208540Z",
     "start_time": "2025-04-02T03:24:45.984876Z"
    }
   },
   "cell_type": "code",
   "source": [
    "import matplotlib.pyplot as plt\n",
    "\n",
    "# 转换 time_slot 为字符串，用作横坐标\n",
    "result_df[\"time_str\"] = result_df[\"time_slot\"].astype(str)\n",
    "\n",
    "# 绘图\n",
    "plt.figure(figsize=(14, 6))\n",
    "plt.plot(result_df[\"time_str\"], result_df[\"estimated_price\"], marker='o')\n",
    "plt.title(f\"{result_df['date'].iloc[0]} 各时点估算出清价格\")\n",
    "plt.xlabel(\"时点\")\n",
    "plt.ylabel(\"估算出清价格\")\n",
    "plt.xticks(rotation=90)\n",
    "plt.grid(True)\n",
    "plt.tight_layout()\n",
    "plt.show()"
   ],
   "id": "bf17640f299dd3be",
   "outputs": [
    {
     "name": "stderr",
     "output_type": "stream",
     "text": [
      "C:\\Users\\SP007\\AppData\\Local\\Temp\\ipykernel_19500\\227962229.py:14: UserWarning: Glyph 26102 (\\N{CJK UNIFIED IDEOGRAPH-65F6}) missing from font(s) DejaVu Sans.\n",
      "  plt.tight_layout()\n",
      "C:\\Users\\SP007\\AppData\\Local\\Temp\\ipykernel_19500\\227962229.py:14: UserWarning: Glyph 28857 (\\N{CJK UNIFIED IDEOGRAPH-70B9}) missing from font(s) DejaVu Sans.\n",
      "  plt.tight_layout()\n",
      "C:\\Users\\SP007\\AppData\\Local\\Temp\\ipykernel_19500\\227962229.py:14: UserWarning: Glyph 20272 (\\N{CJK UNIFIED IDEOGRAPH-4F30}) missing from font(s) DejaVu Sans.\n",
      "  plt.tight_layout()\n",
      "C:\\Users\\SP007\\AppData\\Local\\Temp\\ipykernel_19500\\227962229.py:14: UserWarning: Glyph 31639 (\\N{CJK UNIFIED IDEOGRAPH-7B97}) missing from font(s) DejaVu Sans.\n",
      "  plt.tight_layout()\n",
      "C:\\Users\\SP007\\AppData\\Local\\Temp\\ipykernel_19500\\227962229.py:14: UserWarning: Glyph 20986 (\\N{CJK UNIFIED IDEOGRAPH-51FA}) missing from font(s) DejaVu Sans.\n",
      "  plt.tight_layout()\n",
      "C:\\Users\\SP007\\AppData\\Local\\Temp\\ipykernel_19500\\227962229.py:14: UserWarning: Glyph 28165 (\\N{CJK UNIFIED IDEOGRAPH-6E05}) missing from font(s) DejaVu Sans.\n",
      "  plt.tight_layout()\n",
      "C:\\Users\\SP007\\AppData\\Local\\Temp\\ipykernel_19500\\227962229.py:14: UserWarning: Glyph 20215 (\\N{CJK UNIFIED IDEOGRAPH-4EF7}) missing from font(s) DejaVu Sans.\n",
      "  plt.tight_layout()\n",
      "C:\\Users\\SP007\\AppData\\Local\\Temp\\ipykernel_19500\\227962229.py:14: UserWarning: Glyph 26684 (\\N{CJK UNIFIED IDEOGRAPH-683C}) missing from font(s) DejaVu Sans.\n",
      "  plt.tight_layout()\n",
      "C:\\Users\\SP007\\AppData\\Local\\Temp\\ipykernel_19500\\227962229.py:14: UserWarning: Glyph 21508 (\\N{CJK UNIFIED IDEOGRAPH-5404}) missing from font(s) DejaVu Sans.\n",
      "  plt.tight_layout()\n",
      "C:\\Users\\SP007\\miniconda3\\Lib\\site-packages\\IPython\\core\\pylabtools.py:170: UserWarning: Glyph 20272 (\\N{CJK UNIFIED IDEOGRAPH-4F30}) missing from font(s) DejaVu Sans.\n",
      "  fig.canvas.print_figure(bytes_io, **kw)\n",
      "C:\\Users\\SP007\\miniconda3\\Lib\\site-packages\\IPython\\core\\pylabtools.py:170: UserWarning: Glyph 31639 (\\N{CJK UNIFIED IDEOGRAPH-7B97}) missing from font(s) DejaVu Sans.\n",
      "  fig.canvas.print_figure(bytes_io, **kw)\n",
      "C:\\Users\\SP007\\miniconda3\\Lib\\site-packages\\IPython\\core\\pylabtools.py:170: UserWarning: Glyph 20986 (\\N{CJK UNIFIED IDEOGRAPH-51FA}) missing from font(s) DejaVu Sans.\n",
      "  fig.canvas.print_figure(bytes_io, **kw)\n",
      "C:\\Users\\SP007\\miniconda3\\Lib\\site-packages\\IPython\\core\\pylabtools.py:170: UserWarning: Glyph 28165 (\\N{CJK UNIFIED IDEOGRAPH-6E05}) missing from font(s) DejaVu Sans.\n",
      "  fig.canvas.print_figure(bytes_io, **kw)\n",
      "C:\\Users\\SP007\\miniconda3\\Lib\\site-packages\\IPython\\core\\pylabtools.py:170: UserWarning: Glyph 20215 (\\N{CJK UNIFIED IDEOGRAPH-4EF7}) missing from font(s) DejaVu Sans.\n",
      "  fig.canvas.print_figure(bytes_io, **kw)\n",
      "C:\\Users\\SP007\\miniconda3\\Lib\\site-packages\\IPython\\core\\pylabtools.py:170: UserWarning: Glyph 26684 (\\N{CJK UNIFIED IDEOGRAPH-683C}) missing from font(s) DejaVu Sans.\n",
      "  fig.canvas.print_figure(bytes_io, **kw)\n",
      "C:\\Users\\SP007\\miniconda3\\Lib\\site-packages\\IPython\\core\\pylabtools.py:170: UserWarning: Glyph 21508 (\\N{CJK UNIFIED IDEOGRAPH-5404}) missing from font(s) DejaVu Sans.\n",
      "  fig.canvas.print_figure(bytes_io, **kw)\n",
      "C:\\Users\\SP007\\miniconda3\\Lib\\site-packages\\IPython\\core\\pylabtools.py:170: UserWarning: Glyph 26102 (\\N{CJK UNIFIED IDEOGRAPH-65F6}) missing from font(s) DejaVu Sans.\n",
      "  fig.canvas.print_figure(bytes_io, **kw)\n",
      "C:\\Users\\SP007\\miniconda3\\Lib\\site-packages\\IPython\\core\\pylabtools.py:170: UserWarning: Glyph 28857 (\\N{CJK UNIFIED IDEOGRAPH-70B9}) missing from font(s) DejaVu Sans.\n",
      "  fig.canvas.print_figure(bytes_io, **kw)\n"
     ]
    },
    {
     "data": {
      "text/plain": [
       "<Figure size 1400x600 with 1 Axes>"
      ],
      "image/png": "[encoded data removed]"
     },
     "metadata": {},
     "output_type": "display_data"
    }
   ],
   "execution_count": 42
  },
  {
   "metadata": {
    "ExecuteTime": {
     "end_time": "2025-04-02T03:25:41.987037Z",
     "start_time": "2025-04-02T03:25:41.971067Z"
    }
   },
   "cell_type": "code",
   "source": "result_df",
   "id": "61c07901fa33fe7",
   "outputs": [
    {
     "data": {
      "text/plain": [
       "          date time_slot estimated_price  time_str  time_index\n",
       "0   2025-03-30  00:00:00            None  00:00:00           1\n",
       "1   2025-03-30  00:15:00            None  00:15:00           2\n",
       "2   2025-03-30  00:30:00            None  00:30:00           3\n",
       "3   2025-03-30  00:45:00            None  00:45:00           4\n",
       "4   2025-03-30  01:00:00            None  01:00:00           5\n",
       "..         ...       ...             ...       ...         ...\n",
       "91  2025-03-30  22:45:00            None  22:45:00          92\n",
       "92  2025-03-30  23:00:00            None  23:00:00          93\n",
       "93  2025-03-30  23:15:00            None  23:15:00          94\n",
       "94  2025-03-30  23:30:00            None  23:30:00          95\n",
       "95  2025-03-30  23:45:00            None  23:45:00          96\n",
       "\n",
       "[96 rows x 5 columns]"
      ],
      "text/html": [
       "<div>\n",
       "<style scoped>\n",
       "    .dataframe tbody tr th:only-of-type {\n",
       "        vertical-align: middle;\n",
       "    }\n",
       "\n",
       "    .dataframe tbody tr th {\n",
       "        vertical-align: top;\n",
       "    }\n",
       "\n",
       "    .dataframe thead th {\n",
       "        text-align: right;\n",
       "    }\n",
       "</style>\n",
       "<table border=\"1\" class=\"dataframe\">\n",
       "  <thead>\n",
       "    <tr style=\"text-align: right;\">\n",
       "      <th></th>\n",
       "      <th>date</th>\n",
       "      <th>time_slot</th>\n",
       "      <th>estimated_price</th>\n",
       "      <th>time_str</th>\n",
       "      <th>time_index</th>\n",
       "    </tr>\n",
       "  </thead>\n",
       "  <tbody>\n",
       "    <tr>\n",
       "      <th>0</th>\n",
       "      <td>2025-03-30</td>\n",
       "      <td>00:00:00</td>\n",
       "      <td>None</td>\n",
       "      <td>00:00:00</td>\n",
       "      <td>1</td>\n",
       "    </tr>\n",
       "    <tr>\n",
       "      <th>1</th>\n",
       "      <td>2025-03-30</td>\n",
       "      <td>00:15:00</td>\n",
       "      <td>None</td>\n",
       "      <td>00:15:00</td>\n",
       "      <td>2</td>\n",
       "    </tr>\n",
       "    <tr>\n",
       "      <th>2</th>\n",
       "      <td>2025-03-30</td>\n",
       "      <td>00:30:00</td>\n",
       "      <td>None</td>\n",
       "      <td>00:30:00</td>\n",
       "      <td>3</td>\n",
       "    </tr>\n",
       "    <tr>\n",
       "      <th>3</th>\n",
       "      <td>2025-03-30</td>\n",
       "      <td>00:45:00</td>\n",
       "      <td>None</td>\n",
       "      <td>00:45:00</td>\n",
       "      <td>4</td>\n",
       "    </tr>\n",
       "    <tr>\n",
       "      <th>4</th>\n",
       "      <td>2025-03-30</td>\n",
       "      <td>01:00:00</td>\n",
       "      <td>None</td>\n",
       "      <td>01:00:00</td>\n",
       "      <td>5</td>\n",
       "    </tr>\n",
       "    <tr>\n",
       "      <th>...</th>\n",
       "      <td>...</td>\n",
       "      <td>...</td>\n",
       "      <td>...</td>\n",
       "      <td>...</td>\n",
       "      <td>...</td>\n",
       "    </tr>\n",
       "    <tr>\n",
       "      <th>91</th>\n",
       "      <td>2025-03-30</td>\n",
       "      <td>22:45:00</td>\n",
       "      <td>None</td>\n",
       "      <td>22:45:00</td>\n",
       "      <td>92</td>\n",
       "    </tr>\n",
       "    <tr>\n",
       "      <th>92</th>\n",
       "      <td>2025-03-30</td>\n",
       "      <td>23:00:00</td>\n",
       "      <td>None</td>\n",
       "      <td>23:00:00</td>\n",
       "      <td>93</td>\n",
       "    </tr>\n",
       "    <tr>\n",
       "      <th>93</th>\n",
       "      <td>2025-03-30</td>\n",
       "      <td>23:15:00</td>\n",
       "      <td>None</td>\n",
       "      <td>23:15:00</td>\n",
       "      <td>94</td>\n",
       "    </tr>\n",
       "    <tr>\n",
       "      <th>94</th>\n",
       "      <td>2025-03-30</td>\n",
       "      <td>23:30:00</td>\n",
       "      <td>None</td>\n",
       "      <td>23:30:00</td>\n",
       "      <td>95</td>\n",
       "    </tr>\n",
       "    <tr>\n",
       "      <th>95</th>\n",
       "      <td>2025-03-30</td>\n",
       "      <td>23:45:00</td>\n",
       "      <td>None</td>\n",
       "      <td>23:45:00</td>\n",
       "      <td>96</td>\n",
       "    </tr>\n",
       "  </tbody>\n",
       "</table>\n",
       "<p>96 rows × 5 columns</p>\n",
       "</div>"
      ]
     },
     "execution_count": 43,
     "metadata": {},
     "output_type": "execute_result"
    }
   ],
   "execution_count": 43
  },
  {
   "metadata": {
    "ExecuteTime": {
     "end_time": "2025-04-02T02:47:10.007755Z",
     "start_time": "2025-04-02T02:47:10.000239Z"
    }
   },
   "cell_type": "code",
   "source": "conn.close()",
   "id": "59d8c4cf4bf50f86",
   "outputs": [],
   "execution_count": 6
  }
 ],
 "metadata": {
  "kernelspec": {
   "display_name": "Python 3",
   "language": "python",
   "name": "python3"
  },
  "language_info": {
   "codemirror_mode": {
    "name": "ipython",
    "version": 2
   },
   "file_extension": ".py",
   "mimetype": "text/x-python",
   "name": "python",
   "nbconvert_exporter": "python",
   "pygments_lexer": "ipython2",
   "version": "2.7.6"
  }
 },
 "nbformat": 4,
 "nbformat_minor": 5
}
